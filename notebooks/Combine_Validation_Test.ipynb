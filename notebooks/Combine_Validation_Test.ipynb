{
  "nbformat": 4,
  "nbformat_minor": 0,
  "metadata": {
    "colab": {
      "name": "Combine_Validation_Test.ipynb",
      "provenance": [],
      "collapsed_sections": []
    },
    "kernelspec": {
      "name": "python3",
      "display_name": "Python 3"
    }
  },
  "cells": [
    {
      "cell_type": "code",
      "metadata": {
        "id": "qZlESxYrIB7z"
      },
      "source": [
        "import os\r\n",
        "import glob\r\n",
        "import pandas as pd"
      ],
      "execution_count": null,
      "outputs": []
    },
    {
      "cell_type": "code",
      "metadata": {
        "colab": {
          "base_uri": "https://localhost:8080/"
        },
        "id": "0_Yfdii4ISnN",
        "outputId": "39f8b045-d522-4e47-88e1-abe80f87af1f"
      },
      "source": [
        "from google.colab import drive\r\n",
        "drive.mount('/content/drive')"
      ],
      "execution_count": null,
      "outputs": [
        {
          "output_type": "stream",
          "text": [
            "Mounted at /content/drive\n"
          ],
          "name": "stdout"
        }
      ]
    },
    {
      "cell_type": "code",
      "metadata": {
        "id": "s8lyTmpp7y8Q",
        "colab": {
          "base_uri": "https://localhost:8080/"
        },
        "outputId": "1608dda6-db23-4d39-c0ee-b0b0e743a094"
      },
      "source": [
        "%cd /content/drive/My\\ Drive/Data Mining Project/preprocessed_datasets"
      ],
      "execution_count": null,
      "outputs": [
        {
          "output_type": "stream",
          "text": [
            "/content/drive/My Drive/Data Mining Project/preprocessed_datasets\n"
          ],
          "name": "stdout"
        }
      ]
    },
    {
      "cell_type": "code",
      "metadata": {
        "id": "0-G_SC1XIxSZ"
      },
      "source": [
        "extension = 'csv'\r\n",
        "all_filenames = [i for i in glob.glob('*.{}'.format(extension))]"
      ],
      "execution_count": null,
      "outputs": []
    },
    {
      "cell_type": "code",
      "metadata": {
        "id": "rjYUcG4xI2b_"
      },
      "source": [
        "combined_csv = pd.concat([pd.read_csv(f) for f in all_filenames ])\r\n",
        "#export to csv\r\n",
        "combined_csv.to_csv( \"test.csv\", index=False, encoding='utf-8-sig')"
      ],
      "execution_count": null,
      "outputs": []
    }
  ]
}