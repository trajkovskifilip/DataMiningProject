{
  "nbformat": 4,
  "nbformat_minor": 0,
  "metadata": {
    "colab": {
      "name": "DataMining_CombineDatasets.ipynb",
      "provenance": [],
      "collapsed_sections": [],
      "toc_visible": true
    },
    "kernelspec": {
      "name": "python3",
      "display_name": "Python 3"
    }
  },
  "cells": [
    {
      "cell_type": "code",
      "metadata": {
        "id": "c_l-tQDtoQUm"
      },
      "source": [
        "import pandas as pd\r\n",
        "import numpy as np\r\n",
        "from datetime import datetime"
      ],
      "execution_count": null,
      "outputs": []
    },
    {
      "cell_type": "code",
      "metadata": {
        "id": "bie6LZXdooWU"
      },
      "source": [
        "stations = ['Karpos', 'Centar', 'GaziBaba', 'Lisice', 'Rektorat', 'Miladinovci']"
      ],
      "execution_count": null,
      "outputs": []
    },
    {
      "cell_type": "code",
      "metadata": {
        "colab": {
          "base_uri": "https://localhost:8080/",
          "height": 235
        },
        "id": "kWdJtXnpcC09",
        "outputId": "3d7333d0-a172-4ff5-f04a-2d7ebd5e3a2b"
      },
      "source": [
        "df_time = pd.read_csv('./pollution_data/time.csv', index_col=0)\r\n",
        "df_time.head()"
      ],
      "execution_count": null,
      "outputs": [
        {
          "output_type": "execute_result",
          "data": {
            "text/html": [
              "<div>\n",
              "<style scoped>\n",
              "    .dataframe tbody tr th:only-of-type {\n",
              "        vertical-align: middle;\n",
              "    }\n",
              "\n",
              "    .dataframe tbody tr th {\n",
              "        vertical-align: top;\n",
              "    }\n",
              "\n",
              "    .dataframe thead th {\n",
              "        text-align: right;\n",
              "    }\n",
              "</style>\n",
              "<table border=\"1\" class=\"dataframe\">\n",
              "  <thead>\n",
              "    <tr style=\"text-align: right;\">\n",
              "      <th></th>\n",
              "      <th>hour</th>\n",
              "      <th>day</th>\n",
              "      <th>month</th>\n",
              "      <th>year</th>\n",
              "      <th>weekend</th>\n",
              "      <th>holiday</th>\n",
              "    </tr>\n",
              "    <tr>\n",
              "      <th>Timestamp</th>\n",
              "      <th></th>\n",
              "      <th></th>\n",
              "      <th></th>\n",
              "      <th></th>\n",
              "      <th></th>\n",
              "      <th></th>\n",
              "    </tr>\n",
              "  </thead>\n",
              "  <tbody>\n",
              "    <tr>\n",
              "      <th>2019-01-01 00:00:00</th>\n",
              "      <td>0</td>\n",
              "      <td>1</td>\n",
              "      <td>1</td>\n",
              "      <td>2019</td>\n",
              "      <td>0</td>\n",
              "      <td>1</td>\n",
              "    </tr>\n",
              "    <tr>\n",
              "      <th>2019-01-01 01:00:00</th>\n",
              "      <td>1</td>\n",
              "      <td>1</td>\n",
              "      <td>1</td>\n",
              "      <td>2019</td>\n",
              "      <td>0</td>\n",
              "      <td>1</td>\n",
              "    </tr>\n",
              "    <tr>\n",
              "      <th>2019-01-01 02:00:00</th>\n",
              "      <td>2</td>\n",
              "      <td>1</td>\n",
              "      <td>1</td>\n",
              "      <td>2019</td>\n",
              "      <td>0</td>\n",
              "      <td>1</td>\n",
              "    </tr>\n",
              "    <tr>\n",
              "      <th>2019-01-01 03:00:00</th>\n",
              "      <td>3</td>\n",
              "      <td>1</td>\n",
              "      <td>1</td>\n",
              "      <td>2019</td>\n",
              "      <td>0</td>\n",
              "      <td>1</td>\n",
              "    </tr>\n",
              "    <tr>\n",
              "      <th>2019-01-01 04:00:00</th>\n",
              "      <td>4</td>\n",
              "      <td>1</td>\n",
              "      <td>1</td>\n",
              "      <td>2019</td>\n",
              "      <td>0</td>\n",
              "      <td>1</td>\n",
              "    </tr>\n",
              "  </tbody>\n",
              "</table>\n",
              "</div>"
            ],
            "text/plain": [
              "                     hour  day  month  year  weekend  holiday\n",
              "Timestamp                                                    \n",
              "2019-01-01 00:00:00     0    1      1  2019        0        1\n",
              "2019-01-01 01:00:00     1    1      1  2019        0        1\n",
              "2019-01-01 02:00:00     2    1      1  2019        0        1\n",
              "2019-01-01 03:00:00     3    1      1  2019        0        1\n",
              "2019-01-01 04:00:00     4    1      1  2019        0        1"
            ]
          },
          "metadata": {
            "tags": []
          },
          "execution_count": 7
        }
      ]
    },
    {
      "cell_type": "markdown",
      "metadata": {
        "id": "y_pRyNyXU0Ua"
      },
      "source": [
        "Combine the pollution and weather datasets for each monitoring station in Skopje based on the timestamp attribute (index column)."
      ]
    },
    {
      "cell_type": "code",
      "metadata": {
        "colab": {
          "base_uri": "https://localhost:8080/"
        },
        "id": "Ytu8oJH-csfQ",
        "outputId": "6a5fa3f2-aff5-4431-d123-b140ded8c135"
      },
      "source": [
        "for station in stations:\r\n",
        "  df_pollution = pd.read_csv(f'./pollution_data/{station}.csv', index_col=0)\r\n",
        "  df_weather = pd.read_csv(f'./weather_data/{station}.csv', index_col=0)\r\n",
        "  df = df_weather.join(df_time)\r\n",
        "  df = df.join(df_pollution)\r\n",
        "  df.index = pd.to_datetime(df.index)\r\n",
        "  print(df.head())\r\n",
        "  df.to_csv(f'./combined_data/{station}.csv', index=True)"
      ],
      "execution_count": null,
      "outputs": [
        {
          "output_type": "stream",
          "text": [
            "                     relative_humidity  wind_speed  ...     NO2     SO2\n",
            "Timestamp                                           ...                \n",
            "2019-01-01 00:00:00               85.0         4.0  ...  6.8624  0.4560\n",
            "2019-01-01 01:00:00               84.0         4.0  ...  6.3512  0.4863\n",
            "2019-01-01 02:00:00               83.0         4.4  ...  7.4539  0.3608\n",
            "2019-01-01 03:00:00               84.0         4.4  ...  6.7862  0.4143\n",
            "2019-01-01 04:00:00               84.0         4.0  ...  7.4280  0.5343\n",
            "\n",
            "[5 rows x 24 columns]\n",
            "                     relative_humidity  wind_speed  ...       PM10     PM25\n",
            "Timestamp                                           ...                    \n",
            "2019-01-01 00:00:00               85.0         4.0  ...  15.324900   8.4704\n",
            "2019-01-01 01:00:00               84.0         4.0  ...  22.204800  10.6802\n",
            "2019-01-01 02:00:00               83.0         4.4  ...  21.212500  10.2108\n",
            "2019-01-01 03:00:00               84.0         4.4  ...  24.841900  10.4952\n",
            "2019-01-01 04:00:00               84.0         4.0  ...  21.795099   9.4589\n",
            "\n",
            "[5 rows x 22 columns]\n",
            "                     relative_humidity  wind_speed  ...     NO2     SO2\n",
            "Timestamp                                           ...                \n",
            "2019-01-01 00:00:00               85.0         4.0  ...  3.1515  2.7132\n",
            "2019-01-01 01:00:00               84.0         4.0  ...  2.9032  5.2668\n",
            "2019-01-01 02:00:00               83.0         4.4  ...  2.4448  2.5270\n",
            "2019-01-01 03:00:00               84.0         4.4  ...  4.5458  2.2344\n",
            "2019-01-01 04:00:00               84.0         4.0  ...  3.3425  1.9950\n",
            "\n",
            "[5 rows x 24 columns]\n",
            "                     relative_humidity  wind_speed  ...        NO2     SO2\n",
            "Timestamp                                           ...                   \n",
            "2019-01-01 00:00:00               85.0         4.0  ...  18.947201  2.0482\n",
            "2019-01-01 01:00:00               84.0         4.0  ...  11.440900  2.5270\n",
            "2019-01-01 02:00:00               83.0         4.4  ...  14.535100  2.6068\n",
            "2019-01-01 03:00:00               84.0         4.4  ...  15.490100  2.5004\n",
            "2019-01-01 04:00:00               84.0         4.0  ...  16.731600  2.4472\n",
            "\n",
            "[5 rows x 25 columns]\n",
            "                     relative_humidity  wind_speed  ...      CO        NO2\n",
            "Timestamp                                           ...                   \n",
            "2019-01-01 00:00:00               85.0         4.0  ...  0.8584  53.403400\n",
            "2019-01-01 01:00:00               84.0         4.0  ...  1.0440  56.459801\n",
            "2019-01-01 02:00:00               83.0         4.4  ...  0.8352  36.500301\n",
            "2019-01-01 03:00:00               84.0         4.4  ...  0.9396  50.424000\n",
            "2019-01-01 04:00:00               84.0         4.0  ...  0.7308  36.385502\n",
            "\n",
            "[5 rows x 24 columns]\n",
            "                     relative_humidity  wind_speed  ...      NO2     SO2\n",
            "Timestamp                                           ...                 \n",
            "2019-01-01 00:00:00                 85         6.8  ...   9.8747  3.2186\n",
            "2019-01-01 01:00:00                 84         6.8  ...   9.4927  4.4422\n",
            "2019-01-01 02:00:00                 83         6.8  ...   6.2457  3.8570\n",
            "2019-01-01 03:00:00                 84         6.8  ...   7.7355  3.3250\n",
            "2019-01-01 04:00:00                 84         6.8  ...  11.4218  3.2186\n",
            "\n",
            "[5 rows x 25 columns]\n"
          ],
          "name": "stdout"
        }
      ]
    }
  ]
}